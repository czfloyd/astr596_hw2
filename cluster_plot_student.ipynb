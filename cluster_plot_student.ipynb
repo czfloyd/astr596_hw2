{
 "cells": [
  {
   "cell_type": "code",
   "execution_count": null,
   "metadata": {},
   "outputs": [],
   "source": [
    "import cluster_plot as cp\n",
    "import numpy as np\n",
    "from matplotlib import pyplot as plt\n",
    "import warnings\n",
    "warnings.filterwarnings('ignore')"
   ]
  },
  {
   "cell_type": "markdown",
   "metadata": {},
   "source": [
    "# Main sequence fitting of clusters\n",
    "\n",
    "I expect that you will be able to complete most of the work in class.  If you do not, you have till **weds. Sept. 18** to hand it in.  Instructions on how to do so are at the end of the document.  \n",
    "\n",
    "This exercise is intended to give you a practical exercise in determining the distance to star clusters in the milky way.  You will do this by plotting the color-magnitude diagrams of 4 clusters compared to that of a cluster with a known distances.  This \"reference\" cluster is the nearby Pleiades (M 45), which is visible to the naked eye in late fall/winter.  It has a distance of 130pc.\n",
    "\n",
    "There are four other clusters that you will be studying:<br>\n",
    "M 34<br>\n",
    "M 36<br>\n",
    "NGC 6231<br>\n",
    "NGC 3293<br>\n",
    "\n",
    "I have written a program to plot the color magnitude diagram of each cluster on top of the Plieades cluster.  You run this code by typing:\n",
    "\n",
    "*cp.cmdplot(clustname='cluster name',magshift=0.0,colshift=0.0)*\n",
    "\n",
    "For each cluster you will use the code to plot that cluster and input color and magnitude shifts to align the cluster with the Pleiades.  Using your knowledge of how distance affects color and magnitude, you will need to decide if you use color shifts, magnitude shifts, or both.\n",
    "\n",
    "Using these shifts you will write snippet of code below each plot in the space provided.  This code should be a short calculation to determine what the distance is based on the shifts. \n",
    "\n",
    "_Note that it is not required that color and magnitude shifts be used in your calculation.  You get to decide which are important._\n",
    "\n",
    "In order to get full credit for this assignment all cells have to execute without errors.  You also need to fill out the cells at the bottom and add code where required"
   ]
  },
  {
   "cell_type": "markdown",
   "metadata": {},
   "source": [
    "#### python resources\n",
    "\n",
    "There are tutorials about Python and notebooks at the following locations:<br>\n",
    "https://prappleizer.github.io/Tutorials.html<br>\n",
    "http://www.astropython.org/tutorials/<br>\n",
    "https://whitaker.physics.uconn.edu/astronomy-research-tutorials/#"
   ]
  },
  {
   "cell_type": "markdown",
   "metadata": {},
   "source": [
    "## From here onward is the assignment\n",
    "\n",
    "#### M34"
   ]
  },
  {
   "cell_type": "code",
   "execution_count": null,
   "metadata": {},
   "outputs": [],
   "source": [
    "cp.cmdplot(clustname='M 34',magshift=0.0,colshift=0.0)"
   ]
  },
  {
   "cell_type": "markdown",
   "metadata": {},
   "source": [
    "In this cell, describe what you chose for your shifts and why."
   ]
  },
  {
   "cell_type": "markdown",
   "metadata": {},
   "source": [
    "Use the derived shifts to compute a distance to the cluster by writing a small snippet of code"
   ]
  },
  {
   "cell_type": "code",
   "execution_count": null,
   "metadata": {},
   "outputs": [],
   "source": [
    "#write a calculation here that you execute and which prints out the distance to your cluster in pc.  \n",
    "#To compute the log_10 you need to write \"np.log10(number)\"\n",
    "#To print a value you need to write \"print\n",
    "# *******\n",
    "# enter your calculated shift here\n",
    "shift_m34 = \n",
    "\n",
    "# Assuming the distance to M45 is 130pc write an code expression that converts your shift into the ratio of the distances \n",
    "#the Pleiades to this cluster\n",
    "dist_ratio_m34 =\n",
    "print(dist_ratio_m34)"
   ]
  },
  {
   "cell_type": "markdown",
   "metadata": {},
   "source": [
    "#### M 36"
   ]
  },
  {
   "cell_type": "code",
   "execution_count": null,
   "metadata": {},
   "outputs": [],
   "source": [
    "cp.cmdplot(clustname='M 36',magshift=0.0,colshift=0.0)"
   ]
  },
  {
   "cell_type": "markdown",
   "metadata": {},
   "source": [
    "In this cell, describe what you chose for your shifts and why."
   ]
  },
  {
   "cell_type": "markdown",
   "metadata": {},
   "source": [
    "Use the derived magnitude shift to compute a distance to the cluster by writing a small snippet of code"
   ]
  },
  {
   "cell_type": "code",
   "execution_count": null,
   "metadata": {},
   "outputs": [],
   "source": [
    "#write a calculation here that you execute and which prints out the distance to your cluster in pc.  \n",
    "#To compute the log_10 you need to write \"np.log10(number)\"\n",
    "#To print a value you need to write \"print(value)\"\n",
    "# *******\n",
    "# enter your calculated shift here\n",
    "shift_m36 =\n",
    "\n",
    "# Assuming the distance to M45 is 130pc write an code expression that converts your shift into the ratio of the distances \n",
    "#the Pleiades to this cluster\n",
    "dist_ratio_m36 = \n",
    "print(dist_ratio_m36)"
   ]
  },
  {
   "cell_type": "markdown",
   "metadata": {},
   "source": [
    "#### NGC 6231"
   ]
  },
  {
   "cell_type": "code",
   "execution_count": null,
   "metadata": {},
   "outputs": [],
   "source": [
    "cp.cmdplot(clustname='NGC 6231',magshift=0.0,colshift=0.0)"
   ]
  },
  {
   "cell_type": "markdown",
   "metadata": {},
   "source": [
    "In this cell, describe what you chose for your shifts and why."
   ]
  },
  {
   "cell_type": "markdown",
   "metadata": {},
   "source": [
    "Use the derived magnitude shift to compute a distance to the cluster by writing a small snippet of code"
   ]
  },
  {
   "cell_type": "code",
   "execution_count": null,
   "metadata": {},
   "outputs": [],
   "source": [
    "#write a calculation here that you execute and which prints out the distance to your cluster in pc.  \n",
    "#To compute the log_10 you need to write \"np.log10(number)\"\n",
    "#To print a value you need to write \"print(value)\"\n",
    "# *******\n",
    "# enter your calculated shift here\n",
    "shift_ngc6231 = \n",
    "\n",
    "# Assuming the distance to M45 is 130pc write an code expression that converts your shift into the ratio of the distances \n",
    "#the Pleiades to this cluster\n",
    "dist_ratio_ngc6231 = \n",
    "print(dist_ratio_ngc6231)"
   ]
  },
  {
   "cell_type": "markdown",
   "metadata": {},
   "source": [
    "#### NGC 3293"
   ]
  },
  {
   "cell_type": "code",
   "execution_count": null,
   "metadata": {},
   "outputs": [],
   "source": [
    "cp.cmdplot(clustname='NGC 3293',magshift=0.0,colshift=0.0)"
   ]
  },
  {
   "cell_type": "markdown",
   "metadata": {},
   "source": [
    "In this cell, describe what you chose for your shifts and why."
   ]
  },
  {
   "cell_type": "markdown",
   "metadata": {},
   "source": [
    "Use the derived magnitude shift to compute a distance to the cluster by writing a small snippet of code"
   ]
  },
  {
   "cell_type": "code",
   "execution_count": null,
   "metadata": {},
   "outputs": [],
   "source": [
    "#write a calculation here that you execute and which prints out the distance to your cluster in pc.  \n",
    "#To compute the log_10 you need to write \"np.log10(number)\"\n",
    "#To print a value you need to write \"print(value)\"\n",
    "# *******\n",
    "# enter your calculated shift here\n",
    "shift_ngc3293 = \n",
    "\n",
    "# Assuming the distance to M45 is 130pc write an code expression that converts your shift into the ratio of the distances \n",
    "#the Pleiades to this cluster\n",
    "dist_ratio_ngc3293 = \n",
    "print(dist_ratio_ngc3293)"
   ]
  },
  {
   "cell_type": "markdown",
   "metadata": {},
   "source": [
    "# plotting distances vs. distance modulus\n",
    "If the distance to the Pleiades cluster is 130pc, compute the distance modulus to each cluster.  You can do the algebra on a separate piece of paper, but below I want you to code up the formula for each cluster in the field below"
   ]
  },
  {
   "cell_type": "code",
   "execution_count": null,
   "metadata": {},
   "outputs": [],
   "source": [
    "#For each cluster put in a line of code that calculates the distance modulus.  I have given part of the code below and expect you to fill it in.\n",
    "\n",
    "#this creates a python array that contains all of the distance ratios you calculated above.  \n",
    "#Now you can do operations on this array and it will operate on every element\n",
    "dist_ratios = np.array([dist_ratio_m34, dist_ratio_m36, dist_ratio_ngc6231, dist_ratio_ngc3293])\n",
    "\n",
    "#**********\n",
    "\n",
    "#write an expression to calculate the distance to each cluster\n",
    "dist_pleiades = 130.0\n",
    "dists = \n",
    "\n",
    "print(\"Distance for M 34 = \", dists[0], \" pc\")\n",
    "print(\"Distance for M 36 = \", dists[1], \" pc\")\n",
    "print(\"Distance for NGC 6231 = \", dists[2], \" pc\")\n",
    "print(\"Distance for NGC 3293 = \", dists[3], \" pc\")\n",
    "print()\n",
    "\n",
    "#write an expression to derive the distance modulus from the distance ratio or distance\n",
    "dist_mods = \n",
    "\n",
    "print(\"Distance Modulus for M 34 = \", dist_mods[0])\n",
    "print(\"Distance Modulus for M 36 = \", dist_mods[1])\n",
    "print(\"Distance Modulus for NGC 6231 = \", dist_mods[2])\n",
    "print(\"Distance Modulus for NGC 3293 = \", dist_mods[3])"
   ]
  },
  {
   "cell_type": "markdown",
   "metadata": {},
   "source": [
    "Now make a plot of the Distance modulus you calculated above vs. the log10 of the distance.  I will write some of the code below and you will need to fill it in to get the appropriate values.\n",
    "\n",
    "I then want you to overplot the relation that you would expect given the relation between distance and distance modulus"
   ]
  },
  {
   "cell_type": "code",
   "execution_count": null,
   "metadata": {},
   "outputs": [],
   "source": [
    "#you will need to put the values from above into an array to allow you to plot it.\n",
    "\n",
    "logdist = np.log10(dists)\n",
    "\n",
    "plt.plot(logdist, dist_mods, 'ko', markersize=9)\n",
    "plt.xlabel('distance [pc]')\n",
    "plt.ylabel('Distance modulus')\n",
    "\n",
    "# here you will need to draw a line on your plot that shows the prediction\n",
    "# these are the two x-points of your line, in log distance\n",
    "logdistpred = np.array([2,4])\n",
    "\n",
    "# write down the function that turns logdistpred into the distance modulus\n",
    "# *******\n",
    "dmpred = \n",
    "\n",
    "#plot this line on the previous plot\n",
    "plt.plot(logdistpred, dmpred, 'r-')\n"
   ]
  },
  {
   "cell_type": "markdown",
   "metadata": {},
   "source": [
    "### below this line you need to modify the cells and include text\n",
    "\n",
    "In each cell add text to answer the following questions"
   ]
  },
  {
   "cell_type": "markdown",
   "metadata": {},
   "source": [
    "- How the line your drew matches (or not) the trend you see in the data."
   ]
  },
  {
   "cell_type": "markdown",
   "metadata": {},
   "source": [
    "- Why do more distant clusters have more stars?  Note that I used parallaxes to make a cut of roughly 30% in distance around each cluster.\n"
   ]
  },
  {
   "cell_type": "markdown",
   "metadata": {},
   "source": [
    "- What astrophysical effect that we are ignoring might affect our derived distances and in what way?"
   ]
  },
  {
   "cell_type": "markdown",
   "metadata": {},
   "source": [
    "- How might you do a better job determining the shifts than doing it by eye.  If you would like to try it out your method, you can take some of the data files in the Project_clusters/ directory and try to implement a better method.  The quantities we use to make the plots are bp_rp for the x-axis and phot_rp_mean_mag for the y-axis\n"
   ]
  },
  {
   "cell_type": "markdown",
   "metadata": {},
   "source": [
    "## Instructions for handing the assignment in\n",
    "\n",
    "make sure to save your notebook.\n",
    "\n",
    "You will need to do all these steps from this computer.\n",
    "\n",
    "Go to github.com and make an account.  You can go to https://guides.github.com/activities/hello-world/ and https://guides.github.com/introduction/git-handbook/ for more information on github\n",
    "\n",
    "Make a repository in Github called *ASTR596_HW2*\n",
    "\n",
    "Add this notebook and the Project_clusters directory to the repository.  You can do this at the command line by typing:<br>\n",
    "*git add cluster_plot_student.ipynb*<br>\n",
    "*git add Project_clusters*<br>\n",
    "*git commit -m \"my submission\"*<br>\n",
    "*git push*\n",
    "\n",
    "You should now be able to go to any computer with an anaconda environment, clone this repository again, work on it from that computer, and check it back in again.  Any work you do on a remote computer will need to be checked in to be saved.  Don't mess with this unless you know what you are doing.\n",
    "\n",
    "Send me an e-mail with the subect \"Github ID\" to let me know what you choose as your ID and what the URL of your project is.\n"
   ]
  }
 ],
 "metadata": {
  "kernelspec": {
   "display_name": "Python [conda env:anaconda]",
   "language": "python",
   "name": "conda-env-anaconda-py"
  },
  "language_info": {
   "codemirror_mode": {
    "name": "ipython",
    "version": 3
   },
   "file_extension": ".py",
   "mimetype": "text/x-python",
   "name": "python",
   "nbconvert_exporter": "python",
   "pygments_lexer": "ipython3",
   "version": "3.5.4"
  }
 },
 "nbformat": 4,
 "nbformat_minor": 2
}
